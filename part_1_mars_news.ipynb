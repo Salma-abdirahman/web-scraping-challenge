{
 "cells": [
  {
   "cell_type": "code",
   "execution_count": 1,
   "id": "fea4efbd",
   "metadata": {},
   "outputs": [],
   "source": [
    "from bs4 import BeautifulSoup as bs\n",
    "import pandas as pd\n",
    "from webdriver_manager.chrome import ChromeDriverManager\n",
    "from splinter import Browser"
   ]
  },
  {
   "cell_type": "code",
   "execution_count": 2,
   "id": "4a46969a",
   "metadata": {},
   "outputs": [
    {
     "name": "stderr",
     "output_type": "stream",
     "text": [
      "[WDM] - Downloading: 100%|█████████████████| 8.72M/8.72M [00:00<00:00, 19.4MB/s]\n"
     ]
    }
   ],
   "source": [
    "executable_path = {'executable_path': ChromeDriverManager().install()}\n",
    "browser = Browser('chrome', **executable_path, headless=False)"
   ]
  },
  {
   "cell_type": "code",
   "execution_count": 3,
   "id": "cfae41d2",
   "metadata": {},
   "outputs": [],
   "source": [
    "url = 'https://redplanetscience.com/'\n",
    "browser.visit(url)"
   ]
  },
  {
   "cell_type": "code",
   "execution_count": 4,
   "id": "5fa5ac62",
   "metadata": {},
   "outputs": [],
   "source": [
    "html = browser.html\n",
    "soup = bs(html, 'html.parser')"
   ]
  },
  {
   "cell_type": "code",
   "execution_count": 5,
   "id": "40e5ca43",
   "metadata": {},
   "outputs": [],
   "source": [
    "results = soup.find_all('div', class_='list_text')"
   ]
  },
  {
   "cell_type": "code",
   "execution_count": 7,
   "id": "27b66e43",
   "metadata": {},
   "outputs": [
    {
     "name": "stdout",
     "output_type": "stream",
     "text": [
      "------------------\n",
      "The headline: NASA's Perseverance Rover Will Carry First Spacesuit Materials to Mars\n",
      "Text preview: In a Q&A, spacesuit designer Amy Ross explains how five samples, including a piece of helmet visor, will be tested aboard the rover, which is targeting a July 30 launch. \n",
      "------------------\n",
      "------------------\n",
      "The headline: NASA Wins 4 Webbys, 4 People's Voice Awards\n",
      "Text preview: Winners include the JPL-managed \"Send Your Name to Mars\" campaign, NASA's Global Climate Change website and Solar System Interactive.\n",
      "------------------\n",
      "------------------\n",
      "The headline: Scientists Explore Outback as Testbed for Mars \n",
      "Text preview: Australia provides a great place for NASA's Mars 2020 and the ESA-Roscosmos ExoMars scientists to hone techniques in preparation for searching for signs ancient life on Mars.\n",
      "------------------\n",
      "------------------\n",
      "The headline: All About the Laser (and Microphone) Atop Mars 2020, NASA's Next Rover\n",
      "Text preview: SuperCam is a rock-vaporizing instrument that will help scientists hunt for Mars fossils.\n",
      "------------------\n",
      "------------------\n",
      "The headline: NASA's Push to Save the Mars InSight Lander's Heat Probe\n",
      "Text preview: The scoop on the end of the spacecraft's robotic arm will be used to 'pin' the mole against the wall of its hole.\n",
      "------------------\n",
      "------------------\n",
      "The headline: Deadline Closing for Names to Fly on NASA's Next Mars Rover\n",
      "Text preview: You have until Sept. 30 to send your names to Mars aboard the Mars 2020 rover. \n",
      "------------------\n",
      "------------------\n",
      "The headline: How NASA's Perseverance Mars Team Adjusted to Work in the Time of Coronavirus \n",
      "Text preview: Like much of the rest of the world, the Mars rover team is pushing forward with its mission-critical work while putting the health and safety of their colleagues and community first.\n",
      "------------------\n",
      "------------------\n",
      "The headline: The Detective Aboard NASA's Perseverance Rover\n",
      "Text preview: An instrument called SHERLOC will, with the help of its partner WATSON, hunt for signs of ancient life by detecting organic molecules and minerals.\n",
      "------------------\n",
      "------------------\n",
      "The headline: Two Rovers to Roll on Mars Again: Curiosity and Mars 2020\n",
      "Text preview: They look like twins. But under the hood, the rover currently exploring the Red Planet and the one launching there this summer have distinct science tools and roles to play.\n",
      "------------------\n",
      "------------------\n",
      "The headline: Air Deliveries Bring NASA's Perseverance Mars Rover Closer to Launch\n",
      "Text preview: A NASA Wallops Flight Facility cargo plane transported more than two tons of equipment — including the rover's sample collection tubes — to Florida for this summer's liftoff.\n",
      "------------------\n",
      "------------------\n",
      "The headline: InSight's 'Mole' Team Peers into the Pit\n",
      "Text preview: Efforts to save the heat probe continue.\n",
      "------------------\n",
      "------------------\n",
      "The headline: NASA to Hold Mars 2020 Perseverance Rover Launch Briefing\n",
      "Text preview: Learn more about the agency's next Red Planet mission during a live event on June 17.\n",
      "------------------\n",
      "------------------\n",
      "The headline: Heat and Dust Help Launch Martian Water Into Space, Scientists Find\n",
      "Text preview: Scientists using an instrument aboard NASA’s Mars Atmosphere and Volatile EvolutioN, or MAVEN, spacecraft have discovered that water vapor near the surface of the Red Planet is lofted higher into the atmosphere than anyone expected was possible. \n",
      "------------------\n",
      "------------------\n",
      "The headline: 7 Things to Know About the Mars 2020 Perseverance Rover Mission\n",
      "Text preview: NASA's next rover to the Red Planet is slated to launch no earlier than July 30. These highlights will get you up to speed on the ambitious mission.\n",
      "------------------\n",
      "------------------\n",
      "The headline: NASA Adds Return Sample Scientists to Mars 2020 Leadership Team\n",
      "Text preview: The leadership council for Mars 2020 science added two new members who represent the interests of scientists destined to handle and study the first samples from Red Planet.\n",
      "------------------\n"
     ]
    }
   ],
   "source": [
    "headlinesList = []\n",
    "previewLists = []\n",
    "\n",
    "# start of lists loop\n",
    "for result in results:\n",
    "\n",
    "    # returns titles\n",
    "    headlines = result.find('div', class_='content_title').text\n",
    "    # returns text previews\n",
    "    previewText = result.find('div', class_='article_teaser_body').text\n",
    "\n",
    "    headlinesList.append(headlines)\n",
    "    previewLists.append(previewText)\n",
    "\n",
    "    print('------------------')\n",
    "    print('The headline: ' + str(headlines))\n",
    "    print('Text preview: ' + str(previewText))\n",
    "    print('------------------')"
   ]
  },
  {
   "cell_type": "code",
   "execution_count": 8,
   "id": "f92b10e7",
   "metadata": {},
   "outputs": [],
   "source": [
    "# ends the browser session\n",
    "browser.quit()"
   ]
  },
  {
   "cell_type": "code",
   "execution_count": null,
   "id": "4664265c",
   "metadata": {},
   "outputs": [],
   "source": []
  }
 ],
 "metadata": {
  "kernelspec": {
   "display_name": "Python 3 (ipykernel)",
   "language": "python",
   "name": "python3"
  },
  "language_info": {
   "codemirror_mode": {
    "name": "ipython",
    "version": 3
   },
   "file_extension": ".py",
   "mimetype": "text/x-python",
   "name": "python",
   "nbconvert_exporter": "python",
   "pygments_lexer": "ipython3",
   "version": "3.9.13"
  }
 },
 "nbformat": 4,
 "nbformat_minor": 5
}
